{
 "cells": [
  {
   "cell_type": "code",
   "execution_count": 1,
   "metadata": {},
   "outputs": [],
   "source": [
    "import pandas as pd\n",
    "import matplotlib.pyplot as plt\n",
    "import seaborn as sns"
   ]
  },
  {
   "cell_type": "code",
   "execution_count": 2,
   "metadata": {},
   "outputs": [],
   "source": [
    "df = pd.read_csv('carmudi_data_cleaned.csv')"
   ]
  },
  {
   "cell_type": "code",
   "execution_count": 3,
   "metadata": {},
   "outputs": [
    {
     "data": {
      "text/html": [
       "<div>\n",
       "<style scoped>\n",
       "    .dataframe tbody tr th:only-of-type {\n",
       "        vertical-align: middle;\n",
       "    }\n",
       "\n",
       "    .dataframe tbody tr th {\n",
       "        vertical-align: top;\n",
       "    }\n",
       "\n",
       "    .dataframe thead th {\n",
       "        text-align: right;\n",
       "    }\n",
       "</style>\n",
       "<table border=\"1\" class=\"dataframe\">\n",
       "  <thead>\n",
       "    <tr style=\"text-align: right;\">\n",
       "      <th></th>\n",
       "      <th>brand</th>\n",
       "      <th>fuel</th>\n",
       "      <th>location</th>\n",
       "      <th>model_name</th>\n",
       "      <th>odometer</th>\n",
       "      <th>price</th>\n",
       "      <th>transmission</th>\n",
       "      <th>year</th>\n",
       "    </tr>\n",
       "  </thead>\n",
       "  <tbody>\n",
       "    <tr>\n",
       "      <th>0</th>\n",
       "      <td>Daihatsu</td>\n",
       "      <td>Bensin</td>\n",
       "      <td>Jakarta Timur</td>\n",
       "      <td>xenia</td>\n",
       "      <td>62000.0</td>\n",
       "      <td>108.0</td>\n",
       "      <td>Manual</td>\n",
       "      <td>2015</td>\n",
       "    </tr>\n",
       "    <tr>\n",
       "      <th>1</th>\n",
       "      <td>Daihatsu</td>\n",
       "      <td>Bensin</td>\n",
       "      <td>Jakarta Timur</td>\n",
       "      <td>xenia</td>\n",
       "      <td>52000.0</td>\n",
       "      <td>95.0</td>\n",
       "      <td>Manual</td>\n",
       "      <td>2016</td>\n",
       "    </tr>\n",
       "    <tr>\n",
       "      <th>2</th>\n",
       "      <td>Daihatsu</td>\n",
       "      <td>Bensin</td>\n",
       "      <td>Malang</td>\n",
       "      <td>xenia</td>\n",
       "      <td>32000.0</td>\n",
       "      <td>145.0</td>\n",
       "      <td>Manual</td>\n",
       "      <td>2017</td>\n",
       "    </tr>\n",
       "    <tr>\n",
       "      <th>3</th>\n",
       "      <td>Daihatsu</td>\n",
       "      <td>Bensin</td>\n",
       "      <td>Jl. Kelapa Dua Raya</td>\n",
       "      <td>xenia</td>\n",
       "      <td>18000.0</td>\n",
       "      <td>122.0</td>\n",
       "      <td>Manual</td>\n",
       "      <td>2018</td>\n",
       "    </tr>\n",
       "    <tr>\n",
       "      <th>4</th>\n",
       "      <td>Daihatsu</td>\n",
       "      <td>Bensin</td>\n",
       "      <td>Tangerang</td>\n",
       "      <td>xenia</td>\n",
       "      <td>18000.0</td>\n",
       "      <td>123.0</td>\n",
       "      <td>Manual</td>\n",
       "      <td>2018</td>\n",
       "    </tr>\n",
       "  </tbody>\n",
       "</table>\n",
       "</div>"
      ],
      "text/plain": [
       "      brand    fuel              location model_name  odometer  price  \\\n",
       "0  Daihatsu  Bensin        Jakarta Timur       xenia   62000.0  108.0   \n",
       "1  Daihatsu  Bensin        Jakarta Timur       xenia   52000.0   95.0   \n",
       "2  Daihatsu  Bensin               Malang       xenia   32000.0  145.0   \n",
       "3  Daihatsu  Bensin  Jl. Kelapa Dua Raya       xenia   18000.0  122.0   \n",
       "4  Daihatsu  Bensin            Tangerang       xenia   18000.0  123.0   \n",
       "\n",
       "  transmission  year  \n",
       "0       Manual  2015  \n",
       "1       Manual  2016  \n",
       "2       Manual  2017  \n",
       "3       Manual  2018  \n",
       "4       Manual  2018  "
      ]
     },
     "execution_count": 3,
     "metadata": {},
     "output_type": "execute_result"
    }
   ],
   "source": [
    "df.head()"
   ]
  },
  {
   "cell_type": "code",
   "execution_count": 4,
   "metadata": {},
   "outputs": [
    {
     "data": {
      "text/html": [
       "<div>\n",
       "<style scoped>\n",
       "    .dataframe tbody tr th:only-of-type {\n",
       "        vertical-align: middle;\n",
       "    }\n",
       "\n",
       "    .dataframe tbody tr th {\n",
       "        vertical-align: top;\n",
       "    }\n",
       "\n",
       "    .dataframe thead th {\n",
       "        text-align: right;\n",
       "    }\n",
       "</style>\n",
       "<table border=\"1\" class=\"dataframe\">\n",
       "  <thead>\n",
       "    <tr style=\"text-align: right;\">\n",
       "      <th></th>\n",
       "      <th>brand</th>\n",
       "      <th>fuel</th>\n",
       "      <th>location</th>\n",
       "      <th>model_name</th>\n",
       "      <th>odometer</th>\n",
       "      <th>price</th>\n",
       "      <th>transmission</th>\n",
       "      <th>year</th>\n",
       "    </tr>\n",
       "  </thead>\n",
       "  <tbody>\n",
       "    <tr>\n",
       "      <th>235</th>\n",
       "      <td>Toyota</td>\n",
       "      <td>Bensin</td>\n",
       "      <td>Indonesia</td>\n",
       "      <td>sienta</td>\n",
       "      <td>75552.0</td>\n",
       "      <td>149.0</td>\n",
       "      <td>Otomatis</td>\n",
       "      <td>2016</td>\n",
       "    </tr>\n",
       "    <tr>\n",
       "      <th>236</th>\n",
       "      <td>Toyota</td>\n",
       "      <td>Bensin</td>\n",
       "      <td>Jl. Gading Serpong Boulevard</td>\n",
       "      <td>sienta</td>\n",
       "      <td>35000.0</td>\n",
       "      <td>164.0</td>\n",
       "      <td>Otomatis</td>\n",
       "      <td>2016</td>\n",
       "    </tr>\n",
       "    <tr>\n",
       "      <th>237</th>\n",
       "      <td>Nissan</td>\n",
       "      <td>Bensin</td>\n",
       "      <td>Kubu Raya Regency</td>\n",
       "      <td>livina</td>\n",
       "      <td>15000.0</td>\n",
       "      <td>115.0</td>\n",
       "      <td>Manual</td>\n",
       "      <td>2013</td>\n",
       "    </tr>\n",
       "    <tr>\n",
       "      <th>238</th>\n",
       "      <td>Nissan</td>\n",
       "      <td>Bensin</td>\n",
       "      <td>Indonesia</td>\n",
       "      <td>livina</td>\n",
       "      <td>190000.0</td>\n",
       "      <td>95.0</td>\n",
       "      <td>Manual</td>\n",
       "      <td>2011</td>\n",
       "    </tr>\n",
       "    <tr>\n",
       "      <th>239</th>\n",
       "      <td>Nissan</td>\n",
       "      <td>Bensin</td>\n",
       "      <td>Indonesia</td>\n",
       "      <td>livina</td>\n",
       "      <td>8000.0</td>\n",
       "      <td>210.0</td>\n",
       "      <td>Otomatis</td>\n",
       "      <td>2019</td>\n",
       "    </tr>\n",
       "  </tbody>\n",
       "</table>\n",
       "</div>"
      ],
      "text/plain": [
       "      brand    fuel                       location model_name  odometer  \\\n",
       "235  Toyota  Bensin                     Indonesia      sienta   75552.0   \n",
       "236  Toyota  Bensin  Jl. Gading Serpong Boulevard      sienta   35000.0   \n",
       "237  Nissan  Bensin             Kubu Raya Regency      livina   15000.0   \n",
       "238  Nissan  Bensin                     Indonesia      livina  190000.0   \n",
       "239  Nissan  Bensin                     Indonesia      livina    8000.0   \n",
       "\n",
       "     price transmission  year  \n",
       "235  149.0     Otomatis  2016  \n",
       "236  164.0     Otomatis  2016  \n",
       "237  115.0       Manual  2013  \n",
       "238   95.0       Manual  2011  \n",
       "239  210.0     Otomatis  2019  "
      ]
     },
     "execution_count": 4,
     "metadata": {},
     "output_type": "execute_result"
    }
   ],
   "source": [
    "df.tail(5)"
   ]
  },
  {
   "cell_type": "code",
   "execution_count": 5,
   "metadata": {},
   "outputs": [
    {
     "data": {
      "text/plain": [
       "brand            object\n",
       "fuel             object\n",
       "location         object\n",
       "model_name       object\n",
       "odometer        float64\n",
       "price           float64\n",
       "transmission     object\n",
       "year              int64\n",
       "dtype: object"
      ]
     },
     "execution_count": 5,
     "metadata": {},
     "output_type": "execute_result"
    }
   ],
   "source": [
    "df.dtypes"
   ]
  },
  {
   "cell_type": "code",
   "execution_count": 6,
   "metadata": {},
   "outputs": [
    {
     "data": {
      "text/html": [
       "<div>\n",
       "<style scoped>\n",
       "    .dataframe tbody tr th:only-of-type {\n",
       "        vertical-align: middle;\n",
       "    }\n",
       "\n",
       "    .dataframe tbody tr th {\n",
       "        vertical-align: top;\n",
       "    }\n",
       "\n",
       "    .dataframe thead th {\n",
       "        text-align: right;\n",
       "    }\n",
       "</style>\n",
       "<table border=\"1\" class=\"dataframe\">\n",
       "  <thead>\n",
       "    <tr style=\"text-align: right;\">\n",
       "      <th></th>\n",
       "      <th>brand</th>\n",
       "      <th>model_name</th>\n",
       "      <th>odometer</th>\n",
       "      <th>price</th>\n",
       "      <th>transmission</th>\n",
       "      <th>year</th>\n",
       "    </tr>\n",
       "  </thead>\n",
       "  <tbody>\n",
       "    <tr>\n",
       "      <th>0</th>\n",
       "      <td>Daihatsu</td>\n",
       "      <td>xenia</td>\n",
       "      <td>62000.0</td>\n",
       "      <td>108.0</td>\n",
       "      <td>Manual</td>\n",
       "      <td>2015</td>\n",
       "    </tr>\n",
       "    <tr>\n",
       "      <th>1</th>\n",
       "      <td>Daihatsu</td>\n",
       "      <td>xenia</td>\n",
       "      <td>52000.0</td>\n",
       "      <td>95.0</td>\n",
       "      <td>Manual</td>\n",
       "      <td>2016</td>\n",
       "    </tr>\n",
       "    <tr>\n",
       "      <th>2</th>\n",
       "      <td>Daihatsu</td>\n",
       "      <td>xenia</td>\n",
       "      <td>32000.0</td>\n",
       "      <td>145.0</td>\n",
       "      <td>Manual</td>\n",
       "      <td>2017</td>\n",
       "    </tr>\n",
       "    <tr>\n",
       "      <th>3</th>\n",
       "      <td>Daihatsu</td>\n",
       "      <td>xenia</td>\n",
       "      <td>18000.0</td>\n",
       "      <td>122.0</td>\n",
       "      <td>Manual</td>\n",
       "      <td>2018</td>\n",
       "    </tr>\n",
       "    <tr>\n",
       "      <th>4</th>\n",
       "      <td>Daihatsu</td>\n",
       "      <td>xenia</td>\n",
       "      <td>18000.0</td>\n",
       "      <td>123.0</td>\n",
       "      <td>Manual</td>\n",
       "      <td>2018</td>\n",
       "    </tr>\n",
       "  </tbody>\n",
       "</table>\n",
       "</div>"
      ],
      "text/plain": [
       "      brand model_name  odometer  price transmission  year\n",
       "0  Daihatsu      xenia   62000.0  108.0       Manual  2015\n",
       "1  Daihatsu      xenia   52000.0   95.0       Manual  2016\n",
       "2  Daihatsu      xenia   32000.0  145.0       Manual  2017\n",
       "3  Daihatsu      xenia   18000.0  122.0       Manual  2018\n",
       "4  Daihatsu      xenia   18000.0  123.0       Manual  2018"
      ]
     },
     "execution_count": 6,
     "metadata": {},
     "output_type": "execute_result"
    }
   ],
   "source": [
    "# dropping irrelevant columns\n",
    "df = df.drop(['fuel', 'location'], axis=1)\n",
    "df.head()"
   ]
  },
  {
   "cell_type": "code",
   "execution_count": 7,
   "metadata": {},
   "outputs": [
    {
     "data": {
      "text/html": [
       "<div>\n",
       "<style scoped>\n",
       "    .dataframe tbody tr th:only-of-type {\n",
       "        vertical-align: middle;\n",
       "    }\n",
       "\n",
       "    .dataframe tbody tr th {\n",
       "        vertical-align: top;\n",
       "    }\n",
       "\n",
       "    .dataframe thead th {\n",
       "        text-align: right;\n",
       "    }\n",
       "</style>\n",
       "<table border=\"1\" class=\"dataframe\">\n",
       "  <thead>\n",
       "    <tr style=\"text-align: right;\">\n",
       "      <th></th>\n",
       "      <th>Brand</th>\n",
       "      <th>Model</th>\n",
       "      <th>Odometer</th>\n",
       "      <th>Price</th>\n",
       "      <th>Transmission</th>\n",
       "      <th>Year</th>\n",
       "    </tr>\n",
       "  </thead>\n",
       "  <tbody>\n",
       "    <tr>\n",
       "      <th>0</th>\n",
       "      <td>Daihatsu</td>\n",
       "      <td>xenia</td>\n",
       "      <td>62000.0</td>\n",
       "      <td>108.0</td>\n",
       "      <td>Manual</td>\n",
       "      <td>2015</td>\n",
       "    </tr>\n",
       "    <tr>\n",
       "      <th>1</th>\n",
       "      <td>Daihatsu</td>\n",
       "      <td>xenia</td>\n",
       "      <td>52000.0</td>\n",
       "      <td>95.0</td>\n",
       "      <td>Manual</td>\n",
       "      <td>2016</td>\n",
       "    </tr>\n",
       "    <tr>\n",
       "      <th>2</th>\n",
       "      <td>Daihatsu</td>\n",
       "      <td>xenia</td>\n",
       "      <td>32000.0</td>\n",
       "      <td>145.0</td>\n",
       "      <td>Manual</td>\n",
       "      <td>2017</td>\n",
       "    </tr>\n",
       "    <tr>\n",
       "      <th>3</th>\n",
       "      <td>Daihatsu</td>\n",
       "      <td>xenia</td>\n",
       "      <td>18000.0</td>\n",
       "      <td>122.0</td>\n",
       "      <td>Manual</td>\n",
       "      <td>2018</td>\n",
       "    </tr>\n",
       "    <tr>\n",
       "      <th>4</th>\n",
       "      <td>Daihatsu</td>\n",
       "      <td>xenia</td>\n",
       "      <td>18000.0</td>\n",
       "      <td>123.0</td>\n",
       "      <td>Manual</td>\n",
       "      <td>2018</td>\n",
       "    </tr>\n",
       "  </tbody>\n",
       "</table>\n",
       "</div>"
      ],
      "text/plain": [
       "      Brand  Model  Odometer  Price Transmission  Year\n",
       "0  Daihatsu  xenia   62000.0  108.0       Manual  2015\n",
       "1  Daihatsu  xenia   52000.0   95.0       Manual  2016\n",
       "2  Daihatsu  xenia   32000.0  145.0       Manual  2017\n",
       "3  Daihatsu  xenia   18000.0  122.0       Manual  2018\n",
       "4  Daihatsu  xenia   18000.0  123.0       Manual  2018"
      ]
     },
     "execution_count": 7,
     "metadata": {},
     "output_type": "execute_result"
    }
   ],
   "source": [
    "# renaming the column names\n",
    "df = df.rename(columns={\n",
    "    'brand': 'Brand',\n",
    "    'model_name': 'Model',\n",
    "    'odometer': 'Odometer',\n",
    "    'price': 'Price',\n",
    "    'transmission': 'Transmission',\n",
    "    'year': 'Year'\n",
    "})\n",
    "df.head()"
   ]
  },
  {
   "cell_type": "code",
   "execution_count": 8,
   "metadata": {},
   "outputs": [
    {
     "data": {
      "text/plain": [
       "(240, 6)"
      ]
     },
     "execution_count": 8,
     "metadata": {},
     "output_type": "execute_result"
    }
   ],
   "source": [
    "# total number of rows and columns\n",
    "df.shape"
   ]
  },
  {
   "cell_type": "code",
   "execution_count": 9,
   "metadata": {},
   "outputs": [
    {
     "name": "stdout",
     "output_type": "stream",
     "text": [
      "number of duplicate rows:       Brand  Model  Odometer  Price Transmission  Year\n",
      "51  Suzuki  swift   68000.0   89.0       Manual  2008\n"
     ]
    }
   ],
   "source": [
    "# count duplicate data\n",
    "duplicate_rows_df = df[df.duplicated()]\n",
    "print(\"number of duplicate rows: \", duplicate_rows_df)"
   ]
  },
  {
   "cell_type": "code",
   "execution_count": 10,
   "metadata": {},
   "outputs": [
    {
     "data": {
      "text/plain": [
       "Brand           240\n",
       "Model           240\n",
       "Odometer        240\n",
       "Price           240\n",
       "Transmission    240\n",
       "Year            240\n",
       "dtype: int64"
      ]
     },
     "execution_count": 10,
     "metadata": {},
     "output_type": "execute_result"
    }
   ],
   "source": [
    "# count the number of rows before de-duplication\n",
    "df.count()"
   ]
  },
  {
   "cell_type": "code",
   "execution_count": 11,
   "metadata": {},
   "outputs": [
    {
     "data": {
      "text/html": [
       "<div>\n",
       "<style scoped>\n",
       "    .dataframe tbody tr th:only-of-type {\n",
       "        vertical-align: middle;\n",
       "    }\n",
       "\n",
       "    .dataframe tbody tr th {\n",
       "        vertical-align: top;\n",
       "    }\n",
       "\n",
       "    .dataframe thead th {\n",
       "        text-align: right;\n",
       "    }\n",
       "</style>\n",
       "<table border=\"1\" class=\"dataframe\">\n",
       "  <thead>\n",
       "    <tr style=\"text-align: right;\">\n",
       "      <th></th>\n",
       "      <th>Brand</th>\n",
       "      <th>Model</th>\n",
       "      <th>Odometer</th>\n",
       "      <th>Price</th>\n",
       "      <th>Transmission</th>\n",
       "      <th>Year</th>\n",
       "    </tr>\n",
       "  </thead>\n",
       "  <tbody>\n",
       "    <tr>\n",
       "      <th>0</th>\n",
       "      <td>Daihatsu</td>\n",
       "      <td>xenia</td>\n",
       "      <td>62000.0</td>\n",
       "      <td>108.0</td>\n",
       "      <td>Manual</td>\n",
       "      <td>2015</td>\n",
       "    </tr>\n",
       "    <tr>\n",
       "      <th>1</th>\n",
       "      <td>Daihatsu</td>\n",
       "      <td>xenia</td>\n",
       "      <td>52000.0</td>\n",
       "      <td>95.0</td>\n",
       "      <td>Manual</td>\n",
       "      <td>2016</td>\n",
       "    </tr>\n",
       "    <tr>\n",
       "      <th>2</th>\n",
       "      <td>Daihatsu</td>\n",
       "      <td>xenia</td>\n",
       "      <td>32000.0</td>\n",
       "      <td>145.0</td>\n",
       "      <td>Manual</td>\n",
       "      <td>2017</td>\n",
       "    </tr>\n",
       "    <tr>\n",
       "      <th>3</th>\n",
       "      <td>Daihatsu</td>\n",
       "      <td>xenia</td>\n",
       "      <td>18000.0</td>\n",
       "      <td>122.0</td>\n",
       "      <td>Manual</td>\n",
       "      <td>2018</td>\n",
       "    </tr>\n",
       "    <tr>\n",
       "      <th>4</th>\n",
       "      <td>Daihatsu</td>\n",
       "      <td>xenia</td>\n",
       "      <td>18000.0</td>\n",
       "      <td>123.0</td>\n",
       "      <td>Manual</td>\n",
       "      <td>2018</td>\n",
       "    </tr>\n",
       "  </tbody>\n",
       "</table>\n",
       "</div>"
      ],
      "text/plain": [
       "      Brand  Model  Odometer  Price Transmission  Year\n",
       "0  Daihatsu  xenia   62000.0  108.0       Manual  2015\n",
       "1  Daihatsu  xenia   52000.0   95.0       Manual  2016\n",
       "2  Daihatsu  xenia   32000.0  145.0       Manual  2017\n",
       "3  Daihatsu  xenia   18000.0  122.0       Manual  2018\n",
       "4  Daihatsu  xenia   18000.0  123.0       Manual  2018"
      ]
     },
     "execution_count": 11,
     "metadata": {},
     "output_type": "execute_result"
    }
   ],
   "source": [
    "# dropping the duplicates (de-duplication)\n",
    "df = df.drop_duplicates()\n",
    "df.head()"
   ]
  },
  {
   "cell_type": "code",
   "execution_count": 12,
   "metadata": {},
   "outputs": [
    {
     "data": {
      "text/plain": [
       "Brand           239\n",
       "Model           239\n",
       "Odometer        239\n",
       "Price           239\n",
       "Transmission    239\n",
       "Year            239\n",
       "dtype: int64"
      ]
     },
     "execution_count": 12,
     "metadata": {},
     "output_type": "execute_result"
    }
   ],
   "source": [
    "# count the number of rows after remove the duplicates\n",
    "df.count()"
   ]
  },
  {
   "cell_type": "code",
   "execution_count": 13,
   "metadata": {},
   "outputs": [
    {
     "name": "stdout",
     "output_type": "stream",
     "text": [
      "Brand           0\n",
      "Model           0\n",
      "Odometer        0\n",
      "Price           0\n",
      "Transmission    0\n",
      "Year            0\n",
      "dtype: int64\n"
     ]
    }
   ],
   "source": [
    "# Finding the null values.\n",
    "print(df.isnull().sum())"
   ]
  },
  {
   "cell_type": "code",
   "execution_count": 16,
   "metadata": {
    "scrolled": false
   },
   "outputs": [
    {
     "data": {
      "text/plain": [
       "<matplotlib.axes._subplots.AxesSubplot at 0x7f3f7096bdd8>"
      ]
     },
     "execution_count": 16,
     "metadata": {},
     "output_type": "execute_result"
    },
    {
     "data": {
      "image/png": "[encoded data removed]",
      "text/plain": [
       "<Figure size 432x288 with 1 Axes>"
      ]
     },
     "metadata": {
      "needs_background": "light"
     },
     "output_type": "display_data"
    }
   ],
   "source": [
    "sns.boxplot(x=df['Odometer'])"
   ]
  },
  {
   "cell_type": "code",
   "execution_count": 17,
   "metadata": {},
   "outputs": [
    {
     "data": {
      "text/plain": [
       "<matplotlib.axes._subplots.AxesSubplot at 0x7f3f709cf780>"
      ]
     },
     "execution_count": 17,
     "metadata": {},
     "output_type": "execute_result"
    },
    {
     "data": {
      "image/png": "[encoded data removed]",
      "text/plain": [
       "<Figure size 432x288 with 1 Axes>"
      ]
     },
     "metadata": {
      "needs_background": "light"
     },
     "output_type": "display_data"
    }
   ],
   "source": [
    "sns.boxplot(x=df['Price'])"
   ]
  },
  {
   "cell_type": "code",
   "execution_count": 18,
   "metadata": {},
   "outputs": [
    {
     "data": {
      "text/plain": [
       "<matplotlib.axes._subplots.AxesSubplot at 0x7f3f708b1160>"
      ]
     },
     "execution_count": 18,
     "metadata": {},
     "output_type": "execute_result"
    },
    {
     "data": {
      "image/png": "[encoded data removed]",
      "text/plain": [
       "<Figure size 432x288 with 1 Axes>"
      ]
     },
     "metadata": {
      "needs_background": "light"
     },
     "output_type": "display_data"
    }
   ],
   "source": [
    "sns.boxplot(x=df['Year'])"
   ]
  },
  {
   "cell_type": "code",
   "execution_count": 19,
   "metadata": {},
   "outputs": [
    {
     "name": "stdout",
     "output_type": "stream",
     "text": [
      "Odometer    62500.0\n",
      "Price          54.5\n",
      "Year            5.0\n",
      "dtype: float64\n"
     ]
    }
   ],
   "source": [
    "Q1 = df.quantile(0.25)\n",
    "Q3 = df.quantile(0.75)\n",
    "IQR = Q3 - Q1\n",
    "print(IQR)"
   ]
  },
  {
   "cell_type": "code",
   "execution_count": 20,
   "metadata": {},
   "outputs": [
    {
     "data": {
      "text/plain": [
       "(229, 6)"
      ]
     },
     "execution_count": 20,
     "metadata": {},
     "output_type": "execute_result"
    }
   ],
   "source": [
    "df = df[~((df < (Q1-(1.5 * IQR) )) |(df > (Q3 + 1.5 * IQR))).any(axis=1)]\n",
    "df.shape"
   ]
  },
  {
   "cell_type": "code",
   "execution_count": 25,
   "metadata": {},
   "outputs": [
    {
     "data": {
      "text/plain": [
       "<matplotlib.axes._subplots.AxesSubplot at 0x7f3f707ae710>"
      ]
     },
     "execution_count": 25,
     "metadata": {},
     "output_type": "execute_result"
    },
    {
     "data": {
      "image/png": "[encoded data removed]",
      "text/plain": [
       "<Figure size 720x360 with 1 Axes>"
      ]
     },
     "metadata": {
      "needs_background": "light"
     },
     "output_type": "display_data"
    }
   ],
   "source": [
    "# plotting histogram\n",
    "df.Brand.value_counts().nlargest(100).plot(kind='bar', figsize=(10,5))"
   ]
  },
  {
   "cell_type": "code",
   "execution_count": 29,
   "metadata": {},
   "outputs": [
    {
     "data": {
      "text/plain": [
       "<matplotlib.axes._subplots.AxesSubplot at 0x7f3f70742e10>"
      ]
     },
     "execution_count": 29,
     "metadata": {},
     "output_type": "execute_result"
    },
    {
     "data": {
      "image/png": "[encoded data removed]",
      "text/plain": [
       "<Figure size 1440x720 with 2 Axes>"
      ]
     },
     "metadata": {
      "needs_background": "light"
     },
     "output_type": "display_data"
    }
   ],
   "source": [
    "# finding the relations between  the variables\n",
    "plt.figure(figsize=(20,10))\n",
    "c = df.corr()\n",
    "sns.heatmap(c, cmap=\"BrBG\", annot=True)"
   ]
  },
  {
   "cell_type": "code",
   "execution_count": 35,
   "metadata": {},
   "outputs": [
    {
     "data": {
      "image/png": "[encoded data removed]",
      "text/plain": [
       "<Figure size 720x432 with 1 Axes>"
      ]
     },
     "metadata": {
      "needs_background": "light"
     },
     "output_type": "display_data"
    }
   ],
   "source": [
    "# plotting a scatter plot Odometer vs Price\n",
    "fig, ax = plt.subplots(figsize=(10,6))\n",
    "ax.scatter(df['Odometer'], df['Price'])\n",
    "ax.set_xlabel('Odometer')\n",
    "ax.set_ylabel('Price')\n",
    "plt.show()"
   ]
  },
  {
   "cell_type": "code",
   "execution_count": null,
   "metadata": {},
   "outputs": [],
   "source": []
  }
 ],
 "metadata": {
  "kernelspec": {
   "display_name": "Python 3",
   "language": "python",
   "name": "python3"
  },
  "language_info": {
   "codemirror_mode": {
    "name": "ipython",
    "version": 3
   },
   "file_extension": ".py",
   "mimetype": "text/x-python",
   "name": "python",
   "nbconvert_exporter": "python",
   "pygments_lexer": "ipython3",
   "version": "3.6.9"
  }
 },
 "nbformat": 4,
 "nbformat_minor": 4
}
